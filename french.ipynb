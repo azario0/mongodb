{
  "cells": [
    {
      "cell_type": "markdown",
      "metadata": {
        "id": "view-in-github",
        "colab_type": "text"
      },
      "source": [
        "<a href=\"https://colab.research.google.com/github/azario0/mongodb/blob/main/french.ipynb\" target=\"_parent\"><img src=\"https://colab.research.google.com/assets/colab-badge.svg\" alt=\"Open In Colab\"/></a>"
      ]
    },
    {
      "cell_type": "markdown",
      "metadata": {
        "id": "mwZ5lNDlNM4W"
      },
      "source": [
        "# Installation"
      ]
    },
    {
      "cell_type": "code",
      "execution_count": null,
      "metadata": {
        "id": "70QEYJteNM4a"
      },
      "outputs": [],
      "source": [
        "!pip install mongomock"
      ]
    },
    {
      "cell_type": "markdown",
      "metadata": {
        "id": "LqhXOyHQNM4b"
      },
      "source": [
        "# Import"
      ]
    },
    {
      "cell_type": "code",
      "execution_count": null,
      "metadata": {
        "id": "segzCnJtNM4b"
      },
      "outputs": [],
      "source": [
        "import mongomock"
      ]
    },
    {
      "cell_type": "markdown",
      "metadata": {
        "id": "OuiYdeUQNM4d"
      },
      "source": [
        "# Créer un client MongoDB en mémoire à <br>l'aide de mongomock"
      ]
    },
    {
      "cell_type": "code",
      "execution_count": null,
      "metadata": {
        "id": "vcUR-h0pNM4e"
      },
      "outputs": [],
      "source": [
        "client = mongomock.MongoClient()"
      ]
    },
    {
      "cell_type": "markdown",
      "metadata": {
        "id": "uvy7UTG_NM4e"
      },
      "source": [
        "# Utiliser le client en mémoire comme<br>un client PyMongo standard"
      ]
    },
    {
      "cell_type": "code",
      "execution_count": null,
      "metadata": {
        "id": "qhUcySJoNM4f"
      },
      "outputs": [],
      "source": [
        "db = client['mydatabase']\n",
        "collection = db['mycollection']"
      ]
    },
    {
      "cell_type": "markdown",
      "metadata": {
        "id": "VSkMAx9kNM4f"
      },
      "source": [
        "# Insérer un document unique"
      ]
    },
    {
      "cell_type": "code",
      "execution_count": null,
      "metadata": {
        "id": "vTuPP2LENM4g",
        "outputId": "49206987-a07b-4635-ce05-3fb3ac1ac14c"
      },
      "outputs": [
        {
          "data": {
            "text/plain": [
              "InsertOneResult(ObjectId('675c2d0d0594048ba848f2be'), acknowledged=True)"
            ]
          },
          "execution_count": 4,
          "metadata": {},
          "output_type": "execute_result"
        }
      ],
      "source": [
        "document = {\"name\": \"Alice\", \"age\": 30}\n",
        "collection.insert_one(document)"
      ]
    },
    {
      "cell_type": "markdown",
      "metadata": {
        "id": "04QjXo5yNM4h"
      },
      "source": [
        "# Insérer plusieurs documents"
      ]
    },
    {
      "cell_type": "code",
      "execution_count": null,
      "metadata": {
        "id": "TyiURRpANM4i",
        "outputId": "d1a2a0dc-f30b-481e-fda9-8d6438426455"
      },
      "outputs": [
        {
          "data": {
            "text/plain": [
              "InsertManyResult([ObjectId('675c2d0d0594048ba848f2bf'), ObjectId('675c2d0d0594048ba848f2c0')], acknowledged=True)"
            ]
          },
          "execution_count": 5,
          "metadata": {},
          "output_type": "execute_result"
        }
      ],
      "source": [
        "documents = [\n",
        "    {\"name\": \"Bob\", \"age\": 25},\n",
        "    {\"name\": \"Charlie\", \"age\": 35}\n",
        "]\n",
        "collection.insert_many(documents)"
      ]
    },
    {
      "cell_type": "markdown",
      "metadata": {
        "id": "2USsBWm0NM4i"
      },
      "source": [
        "# Trouver tous les documents"
      ]
    },
    {
      "cell_type": "code",
      "execution_count": null,
      "metadata": {
        "id": "bJuMkJliNM4i",
        "outputId": "1c7e24ad-6fb4-4cf0-ba3e-a6ee16a2f31e"
      },
      "outputs": [
        {
          "name": "stdout",
          "output_type": "stream",
          "text": [
            "{'name': 'Alice', 'age': 30, '_id': ObjectId('675c2d0d0594048ba848f2be')}\n",
            "{'name': 'Bob', 'age': 25, '_id': ObjectId('675c2d0d0594048ba848f2bf')}\n",
            "{'name': 'Charlie', 'age': 35, '_id': ObjectId('675c2d0d0594048ba848f2c0')}\n"
          ]
        }
      ],
      "source": [
        "def find_all():\n",
        "    all_docs = collection.find()\n",
        "    for doc in all_docs:\n",
        "        print(doc)\n",
        "\n",
        "find_all()"
      ]
    },
    {
      "cell_type": "markdown",
      "metadata": {
        "id": "sDILjAFQNM4j"
      },
      "source": [
        "# Trouver les documents où l'âge est supérieur à 30"
      ]
    },
    {
      "cell_type": "code",
      "execution_count": null,
      "metadata": {
        "id": "z13dJs3oNM4j",
        "outputId": "c8bd35b2-a553-46d5-9ea3-c7cafcbf6c5d"
      },
      "outputs": [
        {
          "name": "stdout",
          "output_type": "stream",
          "text": [
            "{'name': 'Charlie', 'age': 35, '_id': ObjectId('675c2d0d0594048ba848f2c0')}\n"
          ]
        }
      ],
      "source": [
        "docs = collection.find({\"age\": {\"$gt\": 30}})\n",
        "for doc in docs:\n",
        "    print(doc)"
      ]
    },
    {
      "cell_type": "markdown",
      "metadata": {
        "id": "dQG7zDl2NM4k"
      },
      "source": [
        "# Mettre à jour l'âge d'Alice"
      ]
    },
    {
      "cell_type": "code",
      "execution_count": null,
      "metadata": {
        "id": "xj_YzmCMNM4k",
        "outputId": "48a662a0-8dab-449f-d401-6c96204270da"
      },
      "outputs": [
        {
          "name": "stdout",
          "output_type": "stream",
          "text": [
            "{'name': 'Alice', 'age': 31, '_id': ObjectId('675c2d0d0594048ba848f2be')}\n"
          ]
        }
      ],
      "source": [
        "collection.update_one(\n",
        "    {\"name\": \"Alice\"},\n",
        "    {\"$set\": {\"age\": 31}}\n",
        ")\n",
        "\n",
        "# Vérifier la mise à jour\n",
        "alice = collection.find_one({\"name\": \"Alice\"})\n",
        "print(alice)"
      ]
    },
    {
      "cell_type": "markdown",
      "metadata": {
        "id": "dKjEUol7NM4k"
      },
      "source": [
        "# Supprimer le document de Bob"
      ]
    },
    {
      "cell_type": "code",
      "execution_count": null,
      "metadata": {
        "id": "380teJwoNM4l",
        "outputId": "67c5b4ad-aa18-45de-d039-8be311c94d8c"
      },
      "outputs": [
        {
          "data": {
            "text/plain": [
              "DeleteResult({'connectionId': 0, 'n': 1, 'ok': 1.0, 'err': None}, acknowledged=True)"
            ]
          },
          "execution_count": 9,
          "metadata": {},
          "output_type": "execute_result"
        }
      ],
      "source": [
        "collection.delete_one({\"name\": \"Bob\"})"
      ]
    },
    {
      "cell_type": "markdown",
      "metadata": {
        "id": "OUv_p8maNM4l"
      },
      "source": [
        "# Vérifier la suppression"
      ]
    },
    {
      "cell_type": "code",
      "execution_count": null,
      "metadata": {
        "id": "lbSSWJSENM4l",
        "outputId": "66e198cd-c9f7-4b08-fab6-de7cc5cb6ce5"
      },
      "outputs": [
        {
          "name": "stdout",
          "output_type": "stream",
          "text": [
            "None\n"
          ]
        }
      ],
      "source": [
        "bob = collection.find_one({\"name\": \"Bob\"})\n",
        "print(bob)"
      ]
    },
    {
      "cell_type": "markdown",
      "metadata": {
        "id": "EEhuQ-2wNM4m"
      },
      "source": [
        "# Trouver les documents où l'âge est <br>supérieur à 32 et inférieur à 39"
      ]
    },
    {
      "cell_type": "code",
      "execution_count": null,
      "metadata": {
        "id": "KYGmwJvINM4m",
        "outputId": "b8f7d545-c546-450d-ccdf-407b672db76e"
      },
      "outputs": [
        {
          "name": "stdout",
          "output_type": "stream",
          "text": [
            "{'name': 'Charlie', 'age': 35, '_id': ObjectId('675c2d0d0594048ba848f2c0')}\n"
          ]
        }
      ],
      "source": [
        "query = {\"$and\": [{\"age\": {\"$gt\": 32}}, {\"age\": {\"$lt\": 39}}]}\n",
        "results = collection.find(query)\n",
        "for doc in results:\n",
        "    print(doc)"
      ]
    },
    {
      "cell_type": "markdown",
      "metadata": {
        "id": "z4MltaEdNM4m"
      },
      "source": [
        "# Trouver les documents où le nom est 'Alice' ou 'Bob'"
      ]
    },
    {
      "cell_type": "code",
      "execution_count": null,
      "metadata": {
        "id": "5mMpg4wqNM4m",
        "outputId": "4e5ffa13-dc27-4b6b-d542-00e3597b68d9"
      },
      "outputs": [
        {
          "name": "stdout",
          "output_type": "stream",
          "text": [
            "{'name': 'Alice', 'age': 31, '_id': ObjectId('675c2d0d0594048ba848f2be')}\n"
          ]
        }
      ],
      "source": [
        "query = {\"$or\": [{\"name\": \"Alice\"}, {\"name\": \"Bob\"}]}\n",
        "results = collection.find(query)\n",
        "for doc in results:\n",
        "    print(doc)"
      ]
    },
    {
      "cell_type": "markdown",
      "metadata": {
        "id": "Hi2mx5jkNM4m"
      },
      "source": [
        "# Ajouter une nouvelle passion à l'array des hobbies d'Alice"
      ]
    },
    {
      "cell_type": "code",
      "execution_count": null,
      "metadata": {
        "id": "cS4xQus5NM4m",
        "outputId": "e10cb765-45bd-47b7-87fe-8f3a079d9dbb"
      },
      "outputs": [
        {
          "name": "stdout",
          "output_type": "stream",
          "text": [
            "{'name': 'Alice', 'age': 31, '_id': ObjectId('675c2d0d0594048ba848f2be'), 'hobbies': ['reading']}\n",
            "{'name': 'Charlie', 'age': 35, '_id': ObjectId('675c2d0d0594048ba848f2c0')}\n"
          ]
        }
      ],
      "source": [
        "collection.update_one(\n",
        "    {\"name\": \"Alice\"},\n",
        "    {\"$push\": {\"hobbies\": \"reading\"}}\n",
        ")\n",
        "find_all()"
      ]
    },
    {
      "cell_type": "markdown",
      "metadata": {
        "id": "2cboFuOVNM4n"
      },
      "source": [
        "# Trouver les documents où le champ 'hobbies' existe"
      ]
    },
    {
      "cell_type": "code",
      "execution_count": null,
      "metadata": {
        "id": "rDcT0ADXNM4n",
        "outputId": "de49a48a-996b-4700-c606-6ee34a40a02e"
      },
      "outputs": [
        {
          "name": "stdout",
          "output_type": "stream",
          "text": [
            "{'name': 'Alice', 'age': 31, '_id': ObjectId('675c2d0d0594048ba848f2be'), 'hobbies': ['reading']}\n"
          ]
        }
      ],
      "source": [
        "query = {\"hobbies\": {\"$exists\": True}}\n",
        "results = collection.find(query)\n",
        "for doc in results:\n",
        "    print(doc)"
      ]
    },
    {
      "cell_type": "markdown",
      "metadata": {
        "id": "1iRhn5bQNM4n"
      },
      "source": [
        "# Insérer un document avec un array et un document imbriqué"
      ]
    },
    {
      "cell_type": "code",
      "execution_count": null,
      "metadata": {
        "id": "jlJ6F5MbNM4n",
        "outputId": "2183d0bc-fcd0-49d7-a3d2-c2d9a9f9d96a"
      },
      "outputs": [
        {
          "name": "stdout",
          "output_type": "stream",
          "text": [
            "{'name': 'Alice', 'age': 31, '_id': ObjectId('675c2d0d0594048ba848f2be'), 'hobbies': ['reading']}\n",
            "{'name': 'Charlie', 'age': 35, '_id': ObjectId('675c2d0d0594048ba848f2c0')}\n",
            "{'name': 'Eve', 'age': 28, 'address': {'street': '456 Elm Street', 'city': 'Springfield'}, 'hobbies': ['hiking', 'photography'], '_id': ObjectId('675c2d1a0594048ba848f2c1')}\n"
          ]
        }
      ],
      "source": [
        "collection.insert_one({\n",
        "    \"name\": \"Eve\",\n",
        "    \"age\": 28,\n",
        "    \"address\": {\n",
        "        \"street\": \"456 Elm Street\",\n",
        "        \"city\": \"Springfield\"\n",
        "    },\n",
        "    \"hobbies\": [\"hiking\", \"photography\"]\n",
        "})\n",
        "find_all()"
      ]
    },
    {
      "cell_type": "markdown",
      "metadata": {
        "id": "k50S2GndNM4o"
      },
      "source": [
        "# Trouver les documents où la ville est 'Springfield'"
      ]
    },
    {
      "cell_type": "code",
      "execution_count": null,
      "metadata": {
        "id": "owntxgAxNM4o",
        "outputId": "b58e31f2-156a-4380-e4a7-d59769b49906"
      },
      "outputs": [
        {
          "name": "stdout",
          "output_type": "stream",
          "text": [
            "{'name': 'Eve', 'age': 28, 'address': {'street': '456 Elm Street', 'city': 'Springfield'}, 'hobbies': ['hiking', 'photography'], '_id': ObjectId('675c2d1a0594048ba848f2c1')}\n"
          ]
        }
      ],
      "source": [
        "query = {\"address.city\": \"Springfield\"}\n",
        "results = collection.find(query)\n",
        "for doc in results:\n",
        "    print(doc)"
      ]
    },
    {
      "cell_type": "markdown",
      "metadata": {
        "id": "VLDwOyR0NM4o"
      },
      "source": [
        "# Pour sauvegarder et récupérer la base de données"
      ]
    },
    {
      "cell_type": "code",
      "execution_count": null,
      "metadata": {
        "id": "g55QvOUKNM4q"
      },
      "outputs": [],
      "source": [
        "import pickle\n",
        "import joblib\n",
        "\n",
        "def save_and_load_with_pickle():\n",
        "    # Créer un client MongoDB en mémoire\n",
        "    client = mongomock.MongoClient()\n",
        "    db = client['mydatabase']\n",
        "    collection = db['users']\n",
        "\n",
        "    # Insérer des données\n",
        "    collection.insert_many([\n",
        "        {'name': 'Alice', 'age': 30},\n",
        "        {'name': 'Bob', 'age': 35},\n",
        "        {'name': 'Charlie', 'age': 25}\n",
        "    ])\n",
        "\n",
        "    # Convertir les données de la collection en une liste de dictionnaires\n",
        "    data_to_save = list(collection.find())\n",
        "\n",
        "    # Sauvegarder les données avec pickle\n",
        "    with open('users_pickle.pkl', 'wb') as f:\n",
        "        pickle.dump(data_to_save, f)\n",
        "\n",
        "    # Charger les données avec pickle\n",
        "    with open('users_pickle.pkl', 'rb') as f:\n",
        "        loaded_data = pickle.load(f)\n",
        "\n",
        "    print(\"Pickle - Données chargées:\", loaded_data)\n",
        "    return loaded_data\n",
        "\n",
        "def save_and_load_with_joblib():\n",
        "    # Créer un client MongoDB en mémoire\n",
        "    client = mongomock.MongoClient()\n",
        "    db = client['mydatabase']\n",
        "    collection = db['products']\n",
        "\n",
        "    # Insérer des données\n",
        "    collection.insert_many([\n",
        "        {'product': 'Laptop', 'price': 1000},\n",
        "        {'product': 'Phone', 'price': 500},\n",
        "        {'product': 'Tablet', 'price': 300}\n",
        "    ])\n",
        "\n",
        "    # Convertir les données de la collection en une liste de dictionnaires\n",
        "    data_to_save = list(collection.find())\n",
        "\n",
        "    # Sauvegarder les données avec joblib\n",
        "    joblib.dump(data_to_save, 'products_joblib.pkl')\n",
        "\n",
        "    # Charger les données avec joblib\n",
        "    loaded_data = joblib.load('products_joblib.pkl')\n",
        "\n",
        "    print(\"Joblib - Données chargées:\", loaded_data)\n",
        "    return loaded_data\n",
        "\n",
        "def reconstruct_collection_from_saved_data():\n",
        "    # Charger les données précédemment sauvegardées\n",
        "    with open('users_pickle.pkl', 'rb') as f:\n",
        "        loaded_users = pickle.load(f)\n",
        "\n",
        "    # Recréer une nouvelle collection mongomock avec les données chargées\n",
        "    client = mongomock.MongoClient()\n",
        "    db = client['mydatabase']\n",
        "    reconstructed_collection = db['users']\n",
        "\n",
        "    # Insérer les données chargées dans la nouvelle collection\n",
        "    if loaded_users:\n",
        "        reconstructed_collection.insert_many(loaded_users)\n",
        "\n",
        "    print(\"Contenu de la collection reconstruite:\")\n",
        "    for user in reconstructed_collection.find():\n",
        "        print(user)"
      ]
    }
  ],
  "metadata": {
    "kernelspec": {
      "display_name": "Python 3",
      "language": "python",
      "name": "python3"
    },
    "language_info": {
      "codemirror_mode": {
        "name": "ipython",
        "version": 3
      },
      "file_extension": ".py",
      "mimetype": "text/x-python",
      "name": "python",
      "nbconvert_exporter": "python",
      "pygments_lexer": "ipython3",
      "version": "3.10.12"
    },
    "colab": {
      "provenance": [],
      "include_colab_link": true
    }
  },
  "nbformat": 4,
  "nbformat_minor": 0
}