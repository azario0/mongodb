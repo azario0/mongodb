{
  "cells": [
    {
      "cell_type": "markdown",
      "metadata": {
        "id": "view-in-github",
        "colab_type": "text"
      },
      "source": [
        "<a href=\"https://colab.research.google.com/github/azario0/mongodb/blob/main/english.ipynb\" target=\"_parent\"><img src=\"https://colab.research.google.com/assets/colab-badge.svg\" alt=\"Open In Colab\"/></a>"
      ]
    },
    {
      "cell_type": "markdown",
      "metadata": {
        "id": "hursS06kM_TO"
      },
      "source": [
        "# Installation"
      ]
    },
    {
      "cell_type": "code",
      "execution_count": null,
      "metadata": {
        "id": "tYt4shh4M_TQ"
      },
      "outputs": [],
      "source": [
        "!pip install mongomock"
      ]
    },
    {
      "cell_type": "markdown",
      "metadata": {
        "id": "HP1tg9ZCM_TR"
      },
      "source": [
        "# Import"
      ]
    },
    {
      "cell_type": "code",
      "execution_count": null,
      "metadata": {
        "id": "_-bXCCI9M_TS"
      },
      "outputs": [],
      "source": [
        "import mongomock"
      ]
    },
    {
      "cell_type": "markdown",
      "metadata": {
        "id": "-yjx6toNM_TS"
      },
      "source": [
        "# Create an in-memory MongoDB client using mongomock"
      ]
    },
    {
      "cell_type": "code",
      "execution_count": null,
      "metadata": {
        "id": "2Upx7_RqM_TS"
      },
      "outputs": [],
      "source": [
        "client = mongomock.MongoClient()"
      ]
    },
    {
      "cell_type": "markdown",
      "metadata": {
        "id": "_4P_YJhiM_TT"
      },
      "source": [
        "# Use the in-memory client just like a regular PyMongo client"
      ]
    },
    {
      "cell_type": "code",
      "execution_count": null,
      "metadata": {
        "id": "KreLDubFM_TT"
      },
      "outputs": [],
      "source": [
        "db = client['mydatabase']\n",
        "collection = db['mycollection']"
      ]
    },
    {
      "cell_type": "markdown",
      "metadata": {
        "id": "6wBxOZK0M_TU"
      },
      "source": [
        "# Insert a single document"
      ]
    },
    {
      "cell_type": "code",
      "execution_count": null,
      "metadata": {
        "id": "gSIZ9sQJM_TV",
        "outputId": "36b6998b-c775-48bd-f3de-55fca88e743e"
      },
      "outputs": [
        {
          "data": {
            "text/plain": [
              "InsertOneResult(ObjectId('675c2d260b49bb2cdc155aed'), acknowledged=True)"
            ]
          },
          "execution_count": 59,
          "metadata": {},
          "output_type": "execute_result"
        }
      ],
      "source": [
        "document = {\"name\": \"Alice\", \"age\": 30}\n",
        "collection.insert_one(document)"
      ]
    },
    {
      "cell_type": "markdown",
      "metadata": {
        "id": "Vmv6dK2aM_TW"
      },
      "source": [
        "# Insert multiple documents"
      ]
    },
    {
      "cell_type": "code",
      "execution_count": null,
      "metadata": {
        "id": "FCzOIfnHM_TX",
        "outputId": "91b2aead-4eb9-456f-f905-8fdbe1652e65"
      },
      "outputs": [
        {
          "data": {
            "text/plain": [
              "InsertManyResult([ObjectId('675c2d270b49bb2cdc155aee'), ObjectId('675c2d270b49bb2cdc155aef')], acknowledged=True)"
            ]
          },
          "execution_count": 60,
          "metadata": {},
          "output_type": "execute_result"
        }
      ],
      "source": [
        "documents = [\n",
        "    {\"name\": \"Bob\", \"age\": 25},\n",
        "    {\"name\": \"Charlie\", \"age\": 35}\n",
        "]\n",
        "collection.insert_many(documents)"
      ]
    },
    {
      "cell_type": "markdown",
      "metadata": {
        "id": "OZVCQk_YM_TX"
      },
      "source": [
        "# Find all documents"
      ]
    },
    {
      "cell_type": "code",
      "execution_count": null,
      "metadata": {
        "id": "EXgvPWU4M_TX",
        "outputId": "fd9b8e93-d760-45c1-d311-5a990d233f6c"
      },
      "outputs": [
        {
          "name": "stdout",
          "output_type": "stream",
          "text": [
            "{'name': 'Alice', 'age': 30, '_id': ObjectId('675c2d260b49bb2cdc155aed')}\n",
            "{'name': 'Bob', 'age': 25, '_id': ObjectId('675c2d270b49bb2cdc155aee')}\n",
            "{'name': 'Charlie', 'age': 35, '_id': ObjectId('675c2d270b49bb2cdc155aef')}\n"
          ]
        }
      ],
      "source": [
        "def find_all():\n",
        "    all_docs = collection.find()\n",
        "    for doc in all_docs:\n",
        "        print(doc)\n",
        "\n",
        "find_all()"
      ]
    },
    {
      "cell_type": "markdown",
      "metadata": {
        "id": "xe61rG3FM_TY"
      },
      "source": [
        "# Find documents with age greater than 30"
      ]
    },
    {
      "cell_type": "code",
      "execution_count": null,
      "metadata": {
        "id": "m4z46zhHM_TZ",
        "outputId": "2fe75660-e69f-4723-efa6-901f519ddae2"
      },
      "outputs": [
        {
          "name": "stdout",
          "output_type": "stream",
          "text": [
            "{'name': 'Charlie', 'age': 35, '_id': ObjectId('675c2d270b49bb2cdc155aef')}\n"
          ]
        }
      ],
      "source": [
        "docs = collection.find({\"age\": {\"$gt\": 30}})\n",
        "for doc in docs:\n",
        "    print(doc)"
      ]
    },
    {
      "cell_type": "markdown",
      "metadata": {
        "id": "N8UbO2ldM_TZ"
      },
      "source": [
        "# Update Alice's age"
      ]
    },
    {
      "cell_type": "code",
      "execution_count": null,
      "metadata": {
        "id": "jTXl6fYKM_TZ",
        "outputId": "5c9eb1c4-5f36-4e77-9ef8-c3fa641027d3"
      },
      "outputs": [
        {
          "name": "stdout",
          "output_type": "stream",
          "text": [
            "{'name': 'Alice', 'age': 31, '_id': ObjectId('675c2d260b49bb2cdc155aed')}\n"
          ]
        }
      ],
      "source": [
        "collection.update_one(\n",
        "    {\"name\": \"Alice\"},\n",
        "    {\"$set\": {\"age\": 31}}\n",
        ")\n",
        "\n",
        "# Verify the update\n",
        "alice = collection.find_one({\"name\": \"Alice\"})\n",
        "print(alice)"
      ]
    },
    {
      "cell_type": "markdown",
      "metadata": {
        "id": "h451ZtA-M_Ta"
      },
      "source": [
        "# Delete Bob's document"
      ]
    },
    {
      "cell_type": "code",
      "execution_count": null,
      "metadata": {
        "id": "J0uBqc3OM_Ta",
        "outputId": "10875e92-b647-494d-dd8f-605fb611bb64"
      },
      "outputs": [
        {
          "data": {
            "text/plain": [
              "DeleteResult({'connectionId': 4, 'n': 1, 'ok': 1.0, 'err': None}, acknowledged=True)"
            ]
          },
          "execution_count": 64,
          "metadata": {},
          "output_type": "execute_result"
        }
      ],
      "source": [
        "collection.delete_one({\"name\": \"Bob\"})"
      ]
    },
    {
      "cell_type": "markdown",
      "metadata": {
        "id": "WlTEIjcwM_Ta"
      },
      "source": [
        "# Verify deletion"
      ]
    },
    {
      "cell_type": "code",
      "execution_count": null,
      "metadata": {
        "id": "gO3vmnj2M_Ta",
        "outputId": "36b84a46-4e60-42ae-ab74-85b9f9e6e19b"
      },
      "outputs": [
        {
          "name": "stdout",
          "output_type": "stream",
          "text": [
            "None\n"
          ]
        }
      ],
      "source": [
        "bob = collection.find_one({\"name\": \"Bob\"})\n",
        "print(bob)"
      ]
    },
    {
      "cell_type": "markdown",
      "metadata": {
        "id": "XFKLJK_hM_Tb"
      },
      "source": [
        "# Find documents where age is <br>greater than 32 and less than 39"
      ]
    },
    {
      "cell_type": "code",
      "execution_count": null,
      "metadata": {
        "id": "wD9r4C0mM_Tb",
        "outputId": "bac2f5ef-a38c-44ca-e87f-76d466c3d1cc"
      },
      "outputs": [
        {
          "name": "stdout",
          "output_type": "stream",
          "text": [
            "{'name': 'Charlie', 'age': 35, '_id': ObjectId('675c2d270b49bb2cdc155aef')}\n"
          ]
        }
      ],
      "source": [
        "query = {\"$and\": [{\"age\": {\"$gt\": 32}}, {\"age\": {\"$lt\": 39}}]}\n",
        "results = collection.find(query)\n",
        "for doc in results:\n",
        "    print(doc)"
      ]
    },
    {
      "cell_type": "markdown",
      "metadata": {
        "id": "9Z2eeJ7oM_Tb"
      },
      "source": [
        "# Find documents where name is 'Alice' or 'Bob'"
      ]
    },
    {
      "cell_type": "code",
      "execution_count": null,
      "metadata": {
        "id": "2x0YY87pM_Tb",
        "outputId": "d3a589ed-5d61-434a-c7b5-df9cab9cc848"
      },
      "outputs": [
        {
          "name": "stdout",
          "output_type": "stream",
          "text": [
            "{'name': 'Alice', 'age': 31, '_id': ObjectId('675c2d260b49bb2cdc155aed')}\n"
          ]
        }
      ],
      "source": [
        "query = {\"$or\": [{\"name\": \"Alice\"}, {\"name\": \"Bob\"}]}\n",
        "results = collection.find(query)\n",
        "for doc in results:\n",
        "    print(doc)"
      ]
    },
    {
      "cell_type": "markdown",
      "metadata": {
        "id": "Z9g69MwKM_Tb"
      },
      "source": [
        "# Push a new hobby to Alice's hobbies array"
      ]
    },
    {
      "cell_type": "code",
      "execution_count": null,
      "metadata": {
        "id": "tcKEmvkAM_Tb",
        "outputId": "22fdc27c-35a5-4311-aa25-b27efc377f19"
      },
      "outputs": [
        {
          "name": "stdout",
          "output_type": "stream",
          "text": [
            "{'name': 'Alice', 'age': 31, '_id': ObjectId('675c2d260b49bb2cdc155aed'), 'hobbies': ['reading']}\n",
            "{'name': 'Charlie', 'age': 35, '_id': ObjectId('675c2d270b49bb2cdc155aef')}\n"
          ]
        }
      ],
      "source": [
        "collection.update_one(\n",
        "    {\"name\": \"Alice\"},\n",
        "    {\"$push\": {\"hobbies\": \"reading\"}}\n",
        ")\n",
        "find_all()"
      ]
    },
    {
      "cell_type": "markdown",
      "metadata": {
        "id": "8mKW50OnM_Tc"
      },
      "source": [
        "# Find documents where the 'hobbies' field exists"
      ]
    },
    {
      "cell_type": "code",
      "execution_count": null,
      "metadata": {
        "id": "WRqGUcnyM_Tc",
        "outputId": "cb2ca0a0-1a91-4dbd-d4ff-83ecc5bf5707"
      },
      "outputs": [
        {
          "name": "stdout",
          "output_type": "stream",
          "text": [
            "{'name': 'Alice', 'age': 31, '_id': ObjectId('675c2d260b49bb2cdc155aed'), 'hobbies': ['reading']}\n"
          ]
        }
      ],
      "source": [
        "query = {\"hobbies\": {\"$exists\": True}}\n",
        "results = collection.find(query)\n",
        "for doc in results:\n",
        "    print(doc)"
      ]
    },
    {
      "cell_type": "markdown",
      "metadata": {
        "id": "oTBsMJ61M_Tc"
      },
      "source": [
        "# Insert a document with an array and nested document\n"
      ]
    },
    {
      "cell_type": "code",
      "execution_count": null,
      "metadata": {
        "id": "JYs3DzZaM_Tc",
        "outputId": "915d8d98-8d33-441f-d839-add84a47062c"
      },
      "outputs": [
        {
          "name": "stdout",
          "output_type": "stream",
          "text": [
            "{'name': 'Alice', 'age': 31, '_id': ObjectId('675c2d260b49bb2cdc155aed'), 'hobbies': ['reading']}\n",
            "{'name': 'Charlie', 'age': 35, '_id': ObjectId('675c2d270b49bb2cdc155aef')}\n",
            "{'name': 'Eve', 'age': 28, 'address': {'street': '456 Elm Street', 'city': 'Springfield'}, 'hobbies': ['hiking', 'photography'], '_id': ObjectId('675c2d310b49bb2cdc155af0')}\n"
          ]
        }
      ],
      "source": [
        "collection.insert_one({\n",
        "    \"name\": \"Eve\",\n",
        "    \"age\": 28,\n",
        "    \"address\": {\n",
        "        \"street\": \"456 Elm Street\",\n",
        "        \"city\": \"Springfield\"\n",
        "    },\n",
        "    \"hobbies\": [\"hiking\", \"photography\"]\n",
        "})\n",
        "find_all()"
      ]
    },
    {
      "cell_type": "markdown",
      "metadata": {
        "id": "aj1sqernM_Td"
      },
      "source": [
        "# Find documents where the city is 'Springfield'"
      ]
    },
    {
      "cell_type": "code",
      "execution_count": null,
      "metadata": {
        "id": "vhYtx9ooM_Td",
        "outputId": "7e3c6205-bc60-49eb-9c2c-98272b4b6078"
      },
      "outputs": [
        {
          "name": "stdout",
          "output_type": "stream",
          "text": [
            "{'name': 'Eve', 'age': 28, 'address': {'street': '456 Elm Street', 'city': 'Springfield'}, 'hobbies': ['hiking', 'photography'], '_id': ObjectId('675c2d310b49bb2cdc155af0')}\n"
          ]
        }
      ],
      "source": [
        "query = {\"address.city\": \"Springfield\"}\n",
        "results = collection.find(query)\n",
        "for doc in results:\n",
        "    print(doc)"
      ]
    },
    {
      "cell_type": "markdown",
      "metadata": {
        "id": "Ztbi1tMPM_Td"
      },
      "source": [
        "# To save and retrieve the database"
      ]
    },
    {
      "cell_type": "code",
      "execution_count": null,
      "metadata": {
        "id": "1TTWlBOlM_Td"
      },
      "outputs": [],
      "source": [
        "import pickle\n",
        "import joblib\n",
        "\n",
        "def save_and_load_with_pickle():\n",
        "    # Create an in-memory MongoDB client\n",
        "    client = mongomock.MongoClient()\n",
        "    db = client['mydatabase']\n",
        "    collection = db['users']\n",
        "\n",
        "    # Insert some data\n",
        "    collection.insert_many([\n",
        "        {'name': 'Alice', 'age': 30},\n",
        "        {'name': 'Bob', 'age': 35},\n",
        "        {'name': 'Charlie', 'age': 25}\n",
        "    ])\n",
        "\n",
        "    # Convert collection data to a list of dictionaries\n",
        "    data_to_save = list(collection.find())\n",
        "\n",
        "    # Save data using pickle\n",
        "    with open('users_pickle.pkl', 'wb') as f:\n",
        "        pickle.dump(data_to_save, f)\n",
        "\n",
        "    # Load data using pickle\n",
        "    with open('users_pickle.pkl', 'rb') as f:\n",
        "        loaded_data = pickle.load(f)\n",
        "\n",
        "    print(\"Pickle - Loaded Data:\", loaded_data)\n",
        "    return loaded_data\n",
        "\n",
        "def save_and_load_with_joblib():\n",
        "    # Create an in-memory MongoDB client\n",
        "    client = mongomock.MongoClient()\n",
        "    db = client['mydatabase']\n",
        "    collection = db['products']\n",
        "\n",
        "    # Insert some data\n",
        "    collection.insert_many([\n",
        "        {'product': 'Laptop', 'price': 1000},\n",
        "        {'product': 'Phone', 'price': 500},\n",
        "        {'product': 'Tablet', 'price': 300}\n",
        "    ])\n",
        "\n",
        "    # Convert collection data to a list of dictionaries\n",
        "    data_to_save = list(collection.find())\n",
        "\n",
        "    # Save data using joblib\n",
        "    joblib.dump(data_to_save, 'products_joblib.pkl')\n",
        "\n",
        "    # Load data using joblib\n",
        "    loaded_data = joblib.load('products_joblib.pkl')\n",
        "\n",
        "    print(\"Joblib - Loaded Data:\", loaded_data)\n",
        "    return loaded_data\n",
        "\n",
        "def reconstruct_collection_from_saved_data():\n",
        "    # Load previously saved data\n",
        "    with open('users_pickle.pkl', 'rb') as f:\n",
        "        loaded_users = pickle.load(f)\n",
        "\n",
        "    # Recreate a new mongomock collection with loaded data\n",
        "    client = mongomock.MongoClient()\n",
        "    db = client['mydatabase']\n",
        "    reconstructed_collection = db['users']\n",
        "\n",
        "    # Insert loaded data into the new collection\n",
        "    if loaded_users:\n",
        "        reconstructed_collection.insert_many(loaded_users)\n",
        "\n",
        "    print(\"Reconstructed Collection Contents:\")\n",
        "    for user in reconstructed_collection.find():\n",
        "        print(user)"
      ]
    }
  ],
  "metadata": {
    "kernelspec": {
      "display_name": "Python 3",
      "language": "python",
      "name": "python3"
    },
    "language_info": {
      "codemirror_mode": {
        "name": "ipython",
        "version": 3
      },
      "file_extension": ".py",
      "mimetype": "text/x-python",
      "name": "python",
      "nbconvert_exporter": "python",
      "pygments_lexer": "ipython3",
      "version": "3.10.12"
    },
    "colab": {
      "provenance": [],
      "include_colab_link": true
    }
  },
  "nbformat": 4,
  "nbformat_minor": 0
}